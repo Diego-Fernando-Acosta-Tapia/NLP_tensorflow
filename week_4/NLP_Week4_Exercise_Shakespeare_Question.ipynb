{
  "nbformat": 4,
  "nbformat_minor": 0,
  "metadata": {
    "colab": {
      "name": "NLP-Week4-Exercise-Shakespeare-Question.ipynb",
      "version": "0.3.2",
      "provenance": []
    },
    "kernelspec": {
      "name": "python2",
      "display_name": "Python 2"
    },
    "accelerator": "GPU"
  },
  "cells": [
    {
      "cell_type": "code",
      "metadata": {
        "id": "BOwsuGQQY9OL",
        "colab_type": "code",
        "colab": {}
      },
      "source": [
        "from tensorflow.keras.preprocessing.sequence import pad_sequences\n",
        "from tensorflow.keras.layers import Embedding, LSTM, Dense, Dropout, Bidirectional\n",
        "from tensorflow.keras.preprocessing.text import Tokenizer\n",
        "from tensorflow.keras.models import Sequential\n",
        "from tensorflow.keras.optimizers import Adam\n",
        "### YOUR CODE HERE\n",
        "# Figure out how to import regularizers\n",
        "###\n",
        "from tensorflow.keras import regularizers\n",
        "import tensorflow.keras.utils as ku \n",
        "import numpy as np "
      ],
      "execution_count": 0,
      "outputs": []
    },
    {
      "cell_type": "code",
      "metadata": {
        "colab_type": "code",
        "id": "PRnDnCW-Z7qv",
        "colab": {
          "base_uri": "https://localhost:8080/",
          "height": 204
        },
        "outputId": "debe3ade-eae7-4944-bb5d-36600dab4301"
      },
      "source": [
        "tokenizer = Tokenizer()\n",
        "!wget --no-check-certificate \\\n",
        "    https://storage.googleapis.com/laurencemoroney-blog.appspot.com/sonnets.txt \\\n",
        "    -O /tmp/sonnets.txt\n",
        "data = open('/tmp/sonnets.txt').read()\n",
        "\n",
        "corpus = data.lower().split(\"\\n\")\n",
        "\n",
        "\n",
        "tokenizer.fit_on_texts(corpus)\n",
        "total_words = len(tokenizer.word_index) + 1\n",
        "\n",
        "# create input sequences using list of tokens\n",
        "input_sequences = []\n",
        "for line in corpus:\n",
        "\ttoken_list = tokenizer.texts_to_sequences([line])[0]\n",
        "\tfor i in range(1, len(token_list)):\n",
        "\t\tn_gram_sequence = token_list[:i+1]\n",
        "\t\tinput_sequences.append(n_gram_sequence)\n",
        "\n",
        "\n",
        "# pad sequences \n",
        "max_sequence_len = max([len(x) for x in input_sequences])\n",
        "input_sequences = np.array(pad_sequences(input_sequences, maxlen=max_sequence_len, padding='pre'))\n",
        "\n",
        "# create predictors and label\n",
        "predictors, label = input_sequences[:,:-1],input_sequences[:,-1]\n",
        "\n",
        "label = ku.to_categorical(label, num_classes=total_words)"
      ],
      "execution_count": 2,
      "outputs": [
        {
          "output_type": "stream",
          "text": [
            "--2019-06-26 15:12:35--  https://storage.googleapis.com/laurencemoroney-blog.appspot.com/sonnets.txt\n",
            "Resolving storage.googleapis.com (storage.googleapis.com)... 172.217.214.128, 2607:f8b0:4001:c00::80\n",
            "Connecting to storage.googleapis.com (storage.googleapis.com)|172.217.214.128|:443... connected.\n",
            "HTTP request sent, awaiting response... 200 OK\n",
            "Length: 93578 (91K) [text/plain]\n",
            "Saving to: ‘/tmp/sonnets.txt’\n",
            "\n",
            "/tmp/sonnets.txt    100%[===================>]  91.38K  --.-KB/s    in 0.001s  \n",
            "\n",
            "2019-06-26 15:12:40 (105 MB/s) - ‘/tmp/sonnets.txt’ saved [93578/93578]\n",
            "\n"
          ],
          "name": "stdout"
        }
      ]
    },
    {
      "cell_type": "code",
      "metadata": {
        "id": "w9vH8Y59ajYL",
        "colab_type": "code",
        "colab": {
          "base_uri": "https://localhost:8080/",
          "height": 666
        },
        "outputId": "d36f4c9a-3bcc-4f7b-e3cd-36eb4f2554b9"
      },
      "source": [
        "model = Sequential()\n",
        "model.add(Embedding(total_words, 100, input_length=max_sequence_len - 1))\n",
        "model.add(Bidirectional(LSTM(150, return_sequences=True)))\n",
        "model.add(Dropout(0.2))\n",
        "model.add(LSTM(100))\n",
        "model.add(Dense(total_words/2, activation='relu', kernel_regularizer=regularizers.l2(0.01)))\n",
        "model.add(Dense(total_words, activation='softmax'))\n",
        "# Pick an optimizer\n",
        "model.compile(loss='categorical_crossentropy', optimizer='adam', metrics=['accuracy'])\n",
        "print(model.summary())\n"
      ],
      "execution_count": 3,
      "outputs": [
        {
          "output_type": "stream",
          "text": [
            "WARNING: Logging before flag parsing goes to stderr.\n",
            "W0626 15:21:36.020077 140128999483264 deprecation.py:506] From /usr/local/lib/python2.7/dist-packages/tensorflow/python/keras/initializers.py:119: calling __init__ (from tensorflow.python.ops.init_ops) with dtype is deprecated and will be removed in a future version.\n",
            "Instructions for updating:\n",
            "Call initializer instance with the dtype argument instead of passing it to the constructor\n",
            "W0626 15:21:36.047107 140128999483264 deprecation.py:506] From /usr/local/lib/python2.7/dist-packages/tensorflow/python/ops/init_ops.py:1251: calling __init__ (from tensorflow.python.ops.init_ops) with dtype is deprecated and will be removed in a future version.\n",
            "Instructions for updating:\n",
            "Call initializer instance with the dtype argument instead of passing it to the constructor\n",
            "W0626 15:21:36.054157 140128999483264 deprecation.py:506] From /usr/local/lib/python2.7/dist-packages/tensorflow/python/ops/init_ops.py:97: calling __init__ (from tensorflow.python.ops.init_ops) with dtype is deprecated and will be removed in a future version.\n",
            "Instructions for updating:\n",
            "Call initializer instance with the dtype argument instead of passing it to the constructor\n",
            "W0626 15:21:36.055852 140128999483264 deprecation.py:506] From /usr/local/lib/python2.7/dist-packages/tensorflow/python/ops/init_ops.py:97: calling __init__ (from tensorflow.python.ops.init_ops) with dtype is deprecated and will be removed in a future version.\n",
            "Instructions for updating:\n",
            "Call initializer instance with the dtype argument instead of passing it to the constructor\n",
            "W0626 15:21:36.057981 140128999483264 deprecation.py:506] From /usr/local/lib/python2.7/dist-packages/tensorflow/python/ops/init_ops.py:97: calling __init__ (from tensorflow.python.ops.init_ops) with dtype is deprecated and will be removed in a future version.\n",
            "Instructions for updating:\n",
            "Call initializer instance with the dtype argument instead of passing it to the constructor\n"
          ],
          "name": "stderr"
        },
        {
          "output_type": "stream",
          "text": [
            "Model: \"sequential\"\n",
            "_________________________________________________________________\n",
            "Layer (type)                 Output Shape              Param #   \n",
            "=================================================================\n",
            "embedding (Embedding)        (None, 10, 100)           321100    \n",
            "_________________________________________________________________\n",
            "bidirectional (Bidirectional (None, 10, 300)           301200    \n",
            "_________________________________________________________________\n",
            "dropout (Dropout)            (None, 10, 300)           0         \n",
            "_________________________________________________________________\n",
            "lstm_1 (LSTM)                (None, 100)               160400    \n",
            "_________________________________________________________________\n",
            "dense (Dense)                (None, 1605)              162105    \n",
            "_________________________________________________________________\n",
            "dense_1 (Dense)              (None, 3211)              5156866   \n",
            "=================================================================\n",
            "Total params: 6,101,671\n",
            "Trainable params: 6,101,671\n",
            "Non-trainable params: 0\n",
            "_________________________________________________________________\n",
            "None\n"
          ],
          "name": "stdout"
        }
      ]
    },
    {
      "cell_type": "code",
      "metadata": {
        "id": "AIg2f1HBxqof",
        "colab_type": "code",
        "colab": {
          "base_uri": "https://localhost:8080/",
          "height": 1000
        },
        "outputId": "00df8772-27e4-4b66-b93f-b24b2c6c3490"
      },
      "source": [
        " history = model.fit(predictors, label, epochs=100, verbose=1)"
      ],
      "execution_count": 4,
      "outputs": [
        {
          "output_type": "stream",
          "text": [
            "W0626 15:29:01.903666 140128999483264 deprecation.py:323] From /usr/local/lib/python2.7/dist-packages/tensorflow/python/ops/math_grad.py:1250: where (from tensorflow.python.ops.array_ops) is deprecated and will be removed in a future version.\n",
            "Instructions for updating:\n",
            "Use tf.where in 2.0, which has the same broadcast rule as np.where\n"
          ],
          "name": "stderr"
        },
        {
          "output_type": "stream",
          "text": [
            "Epoch 1/100\n",
            "15462/15462 [==============================] - 31s 2ms/sample - loss: 6.9069 - acc: 0.0204\n",
            "Epoch 2/100\n",
            "15462/15462 [==============================] - 29s 2ms/sample - loss: 6.4992 - acc: 0.0228\n",
            "Epoch 3/100\n",
            "15462/15462 [==============================] - 28s 2ms/sample - loss: 6.3858 - acc: 0.0246\n",
            "Epoch 4/100\n",
            "15462/15462 [==============================] - 29s 2ms/sample - loss: 6.2587 - acc: 0.0301\n",
            "Epoch 5/100\n",
            "15462/15462 [==============================] - 29s 2ms/sample - loss: 6.1636 - acc: 0.0365\n",
            "Epoch 6/100\n",
            "15462/15462 [==============================] - 28s 2ms/sample - loss: 6.0808 - acc: 0.0376\n",
            "Epoch 7/100\n",
            "15462/15462 [==============================] - 29s 2ms/sample - loss: 6.0027 - acc: 0.0393\n",
            "Epoch 8/100\n",
            "15462/15462 [==============================] - 28s 2ms/sample - loss: 5.9234 - acc: 0.0426\n",
            "Epoch 9/100\n",
            "15462/15462 [==============================] - 29s 2ms/sample - loss: 5.8394 - acc: 0.0470\n",
            "Epoch 10/100\n",
            "15462/15462 [==============================] - 28s 2ms/sample - loss: 5.7312 - acc: 0.0564\n",
            "Epoch 11/100\n",
            "15462/15462 [==============================] - 29s 2ms/sample - loss: 5.6261 - acc: 0.0621\n",
            "Epoch 12/100\n",
            "15462/15462 [==============================] - 28s 2ms/sample - loss: 5.5147 - acc: 0.0676\n",
            "Epoch 13/100\n",
            "15462/15462 [==============================] - 28s 2ms/sample - loss: 5.4053 - acc: 0.0750\n",
            "Epoch 14/100\n",
            "15462/15462 [==============================] - 28s 2ms/sample - loss: 5.2934 - acc: 0.0832\n",
            "Epoch 15/100\n",
            "15462/15462 [==============================] - 28s 2ms/sample - loss: 5.1937 - acc: 0.0920\n",
            "Epoch 16/100\n",
            "15462/15462 [==============================] - 28s 2ms/sample - loss: 5.0839 - acc: 0.1017\n",
            "Epoch 17/100\n",
            "15462/15462 [==============================] - 28s 2ms/sample - loss: 4.9815 - acc: 0.1075\n",
            "Epoch 18/100\n",
            "15462/15462 [==============================] - 28s 2ms/sample - loss: 4.8806 - acc: 0.1138\n",
            "Epoch 19/100\n",
            "15462/15462 [==============================] - 29s 2ms/sample - loss: 4.7712 - acc: 0.1237\n",
            "Epoch 20/100\n",
            "15462/15462 [==============================] - 28s 2ms/sample - loss: 4.6756 - acc: 0.1330\n",
            "Epoch 21/100\n",
            "15462/15462 [==============================] - 29s 2ms/sample - loss: 4.5757 - acc: 0.1411\n",
            "Epoch 22/100\n",
            "15462/15462 [==============================] - 28s 2ms/sample - loss: 4.4678 - acc: 0.1524\n",
            "Epoch 23/100\n",
            "15462/15462 [==============================] - 28s 2ms/sample - loss: 4.3761 - acc: 0.1617\n",
            "Epoch 24/100\n",
            "15462/15462 [==============================] - 28s 2ms/sample - loss: 4.2778 - acc: 0.1728\n",
            "Epoch 25/100\n",
            "15462/15462 [==============================] - 28s 2ms/sample - loss: 4.1730 - acc: 0.1866\n",
            "Epoch 26/100\n",
            "15462/15462 [==============================] - 28s 2ms/sample - loss: 4.0760 - acc: 0.2011\n",
            "Epoch 27/100\n",
            "15462/15462 [==============================] - 28s 2ms/sample - loss: 3.9754 - acc: 0.2156\n",
            "Epoch 28/100\n",
            "15462/15462 [==============================] - 28s 2ms/sample - loss: 3.8800 - acc: 0.2301\n",
            "Epoch 29/100\n",
            "15462/15462 [==============================] - 28s 2ms/sample - loss: 3.7859 - acc: 0.2449\n",
            "Epoch 30/100\n",
            "15462/15462 [==============================] - 28s 2ms/sample - loss: 3.6890 - acc: 0.2619\n",
            "Epoch 31/100\n",
            "15462/15462 [==============================] - 28s 2ms/sample - loss: 3.5911 - acc: 0.2852\n",
            "Epoch 32/100\n",
            "15462/15462 [==============================] - 29s 2ms/sample - loss: 3.5129 - acc: 0.3018\n",
            "Epoch 33/100\n",
            "15462/15462 [==============================] - 28s 2ms/sample - loss: 3.4260 - acc: 0.3169\n",
            "Epoch 34/100\n",
            "15462/15462 [==============================] - 28s 2ms/sample - loss: 3.3322 - acc: 0.3366\n",
            "Epoch 35/100\n",
            "15462/15462 [==============================] - 28s 2ms/sample - loss: 3.2460 - acc: 0.3605\n",
            "Epoch 36/100\n",
            "15462/15462 [==============================] - 29s 2ms/sample - loss: 3.1715 - acc: 0.3711\n",
            "Epoch 37/100\n",
            "15462/15462 [==============================] - 28s 2ms/sample - loss: 3.0976 - acc: 0.3906\n",
            "Epoch 38/100\n",
            "15462/15462 [==============================] - 28s 2ms/sample - loss: 3.0171 - acc: 0.4047\n",
            "Epoch 39/100\n",
            "15462/15462 [==============================] - 28s 2ms/sample - loss: 2.9577 - acc: 0.4188\n",
            "Epoch 40/100\n",
            "15462/15462 [==============================] - 28s 2ms/sample - loss: 2.8807 - acc: 0.4388\n",
            "Epoch 41/100\n",
            "15462/15462 [==============================] - 28s 2ms/sample - loss: 2.8086 - acc: 0.4546\n",
            "Epoch 42/100\n",
            "15462/15462 [==============================] - 28s 2ms/sample - loss: 2.7520 - acc: 0.4671\n",
            "Epoch 43/100\n",
            "15462/15462 [==============================] - 28s 2ms/sample - loss: 2.6840 - acc: 0.4844\n",
            "Epoch 44/100\n",
            "15462/15462 [==============================] - 28s 2ms/sample - loss: 2.6288 - acc: 0.4972\n",
            "Epoch 45/100\n",
            "15462/15462 [==============================] - 29s 2ms/sample - loss: 2.5807 - acc: 0.5078\n",
            "Epoch 46/100\n",
            "15462/15462 [==============================] - 28s 2ms/sample - loss: 2.5146 - acc: 0.5195\n",
            "Epoch 47/100\n",
            "15462/15462 [==============================] - 29s 2ms/sample - loss: 2.4597 - acc: 0.5354\n",
            "Epoch 48/100\n",
            "15462/15462 [==============================] - 28s 2ms/sample - loss: 2.4030 - acc: 0.5469\n",
            "Epoch 49/100\n",
            "15462/15462 [==============================] - 28s 2ms/sample - loss: 2.3509 - acc: 0.5577\n",
            "Epoch 50/100\n",
            "15462/15462 [==============================] - 28s 2ms/sample - loss: 2.3138 - acc: 0.5658\n",
            "Epoch 51/100\n",
            "15462/15462 [==============================] - 28s 2ms/sample - loss: 2.2641 - acc: 0.5761\n",
            "Epoch 52/100\n",
            "15462/15462 [==============================] - 28s 2ms/sample - loss: 2.2095 - acc: 0.5898\n",
            "Epoch 53/100\n",
            "15462/15462 [==============================] - 28s 2ms/sample - loss: 2.1716 - acc: 0.5990\n",
            "Epoch 54/100\n",
            "15462/15462 [==============================] - 29s 2ms/sample - loss: 2.1268 - acc: 0.6035\n",
            "Epoch 55/100\n",
            "15462/15462 [==============================] - 28s 2ms/sample - loss: 2.0926 - acc: 0.6157\n",
            "Epoch 56/100\n",
            "15462/15462 [==============================] - 29s 2ms/sample - loss: 2.0455 - acc: 0.6265\n",
            "Epoch 57/100\n",
            "15462/15462 [==============================] - 29s 2ms/sample - loss: 2.0148 - acc: 0.6340\n",
            "Epoch 58/100\n",
            "15462/15462 [==============================] - 29s 2ms/sample - loss: 1.9651 - acc: 0.6443\n",
            "Epoch 59/100\n",
            "15462/15462 [==============================] - 29s 2ms/sample - loss: 1.9471 - acc: 0.6509\n",
            "Epoch 60/100\n",
            "15462/15462 [==============================] - 29s 2ms/sample - loss: 1.8978 - acc: 0.6639\n",
            "Epoch 61/100\n",
            "15462/15462 [==============================] - 28s 2ms/sample - loss: 1.8699 - acc: 0.6630\n",
            "Epoch 62/100\n",
            "15462/15462 [==============================] - 29s 2ms/sample - loss: 1.8487 - acc: 0.6704\n",
            "Epoch 63/100\n",
            "15462/15462 [==============================] - 28s 2ms/sample - loss: 1.8029 - acc: 0.6792\n",
            "Epoch 64/100\n",
            "15462/15462 [==============================] - 28s 2ms/sample - loss: 1.7773 - acc: 0.6868\n",
            "Epoch 65/100\n",
            "15462/15462 [==============================] - 29s 2ms/sample - loss: 1.7402 - acc: 0.6904\n",
            "Epoch 66/100\n",
            "15462/15462 [==============================] - 29s 2ms/sample - loss: 1.7154 - acc: 0.7002\n",
            "Epoch 67/100\n",
            "15462/15462 [==============================] - 29s 2ms/sample - loss: 1.6859 - acc: 0.7040\n",
            "Epoch 68/100\n",
            "15462/15462 [==============================] - 28s 2ms/sample - loss: 1.6586 - acc: 0.7123\n",
            "Epoch 69/100\n",
            "15462/15462 [==============================] - 28s 2ms/sample - loss: 1.6455 - acc: 0.7127\n",
            "Epoch 70/100\n",
            "15462/15462 [==============================] - 28s 2ms/sample - loss: 1.6106 - acc: 0.7214\n",
            "Epoch 71/100\n",
            "15462/15462 [==============================] - 28s 2ms/sample - loss: 1.5947 - acc: 0.7224\n",
            "Epoch 72/100\n",
            "15462/15462 [==============================] - 28s 2ms/sample - loss: 1.5756 - acc: 0.7242\n",
            "Epoch 73/100\n",
            "15462/15462 [==============================] - 28s 2ms/sample - loss: 1.5400 - acc: 0.7335\n",
            "Epoch 74/100\n",
            "15462/15462 [==============================] - 28s 2ms/sample - loss: 1.5268 - acc: 0.7363\n",
            "Epoch 75/100\n",
            "15462/15462 [==============================] - 28s 2ms/sample - loss: 1.5137 - acc: 0.7366\n",
            "Epoch 76/100\n",
            "15462/15462 [==============================] - 29s 2ms/sample - loss: 1.4760 - acc: 0.7458\n",
            "Epoch 77/100\n",
            "15462/15462 [==============================] - 28s 2ms/sample - loss: 1.4592 - acc: 0.7480\n",
            "Epoch 78/100\n",
            "15462/15462 [==============================] - 28s 2ms/sample - loss: 1.4391 - acc: 0.7523\n",
            "Epoch 79/100\n",
            "15462/15462 [==============================] - 28s 2ms/sample - loss: 1.4228 - acc: 0.7582\n",
            "Epoch 80/100\n",
            "15462/15462 [==============================] - 28s 2ms/sample - loss: 1.4116 - acc: 0.7570\n",
            "Epoch 81/100\n",
            "15462/15462 [==============================] - 28s 2ms/sample - loss: 1.3909 - acc: 0.7606\n",
            "Epoch 82/100\n",
            "15462/15462 [==============================] - 28s 2ms/sample - loss: 1.3710 - acc: 0.7674\n",
            "Epoch 83/100\n",
            "15462/15462 [==============================] - 28s 2ms/sample - loss: 1.3611 - acc: 0.7633\n",
            "Epoch 84/100\n",
            "15462/15462 [==============================] - 28s 2ms/sample - loss: 1.3372 - acc: 0.7703\n",
            "Epoch 85/100\n",
            "15462/15462 [==============================] - 28s 2ms/sample - loss: 1.3263 - acc: 0.7719\n",
            "Epoch 86/100\n",
            "15462/15462 [==============================] - 28s 2ms/sample - loss: 1.3250 - acc: 0.7725\n",
            "Epoch 87/100\n",
            "15462/15462 [==============================] - 29s 2ms/sample - loss: 1.3043 - acc: 0.7752\n",
            "Epoch 88/100\n",
            "15462/15462 [==============================] - 28s 2ms/sample - loss: 1.2835 - acc: 0.7770\n",
            "Epoch 89/100\n",
            "15462/15462 [==============================] - 28s 2ms/sample - loss: 1.2759 - acc: 0.7790\n",
            "Epoch 90/100\n",
            "15462/15462 [==============================] - 28s 2ms/sample - loss: 1.2611 - acc: 0.7853\n",
            "Epoch 91/100\n",
            "15462/15462 [==============================] - 28s 2ms/sample - loss: 1.2403 - acc: 0.7886\n",
            "Epoch 92/100\n",
            "15462/15462 [==============================] - 28s 2ms/sample - loss: 1.2220 - acc: 0.7928\n",
            "Epoch 93/100\n",
            "15462/15462 [==============================] - 28s 2ms/sample - loss: 1.2214 - acc: 0.7873\n",
            "Epoch 94/100\n",
            "15462/15462 [==============================] - 28s 2ms/sample - loss: 1.2092 - acc: 0.7908\n",
            "Epoch 95/100\n",
            "15462/15462 [==============================] - 28s 2ms/sample - loss: 1.2071 - acc: 0.7893\n",
            "Epoch 96/100\n",
            "15462/15462 [==============================] - 28s 2ms/sample - loss: 1.1905 - acc: 0.7940\n",
            "Epoch 97/100\n",
            "15462/15462 [==============================] - 28s 2ms/sample - loss: 1.1936 - acc: 0.7929\n",
            "Epoch 98/100\n",
            "15462/15462 [==============================] - 28s 2ms/sample - loss: 1.1787 - acc: 0.7947\n",
            "Epoch 99/100\n",
            "15462/15462 [==============================] - 28s 2ms/sample - loss: 1.1629 - acc: 0.7994\n",
            "Epoch 100/100\n",
            "15462/15462 [==============================] - 28s 2ms/sample - loss: 1.1388 - acc: 0.8026\n"
          ],
          "name": "stdout"
        }
      ]
    },
    {
      "cell_type": "code",
      "metadata": {
        "id": "1fXTEO3GJ282",
        "colab_type": "code",
        "colab": {
          "base_uri": "https://localhost:8080/",
          "height": 545
        },
        "outputId": "2bfc04ed-36c5-4879-b9f3-5ce60fb14e11"
      },
      "source": [
        "import matplotlib.pyplot as plt\n",
        "acc = history.history['acc']\n",
        "loss = history.history['loss']\n",
        "\n",
        "epochs = range(len(acc))\n",
        "\n",
        "plt.plot(epochs, acc, 'b', label='Training accuracy')\n",
        "plt.title('Training accuracy')\n",
        "\n",
        "plt.figure()\n",
        "\n",
        "plt.plot(epochs, loss, 'b', label='Training Loss')\n",
        "plt.title('Training loss')\n",
        "plt.legend()\n",
        "\n",
        "plt.show()"
      ],
      "execution_count": 5,
      "outputs": [
        {
          "output_type": "display_data",
          "data": {
            "image/png": "[encoded data removed]",
            "text/plain": [
              "<Figure size 432x288 with 1 Axes>"
            ]
          },
          "metadata": {
            "tags": []
          }
        },
        {
          "output_type": "display_data",
          "data": {
            "image/png": "[encoded data removed]",
            "text/plain": [
              "<Figure size 432x288 with 1 Axes>"
            ]
          },
          "metadata": {
            "tags": []
          }
        }
      ]
    },
    {
      "cell_type": "code",
      "metadata": {
        "id": "6Vc6PHgxa6Hm",
        "colab_type": "code",
        "colab": {
          "base_uri": "https://localhost:8080/",
          "height": 54
        },
        "outputId": "4f7970ea-1f55-41b1-d94f-acf60fe0301b"
      },
      "source": [
        "seed_text = \"Help me Obi Wan Kenobi, you're my only hope\"\n",
        "next_words = 100\n",
        "  \n",
        "for _ in range(next_words):\n",
        "\ttoken_list = tokenizer.texts_to_sequences([seed_text])[0]\n",
        "\ttoken_list = pad_sequences([token_list], maxlen=max_sequence_len-1, padding='pre')\n",
        "\tpredicted = model.predict_classes(token_list, verbose=0)\n",
        "\toutput_word = \"\"\n",
        "\tfor word, index in tokenizer.word_index.items():\n",
        "\t\tif index == predicted:\n",
        "\t\t\toutput_word = word\n",
        "\t\t\tbreak\n",
        "\tseed_text += \" \" + output_word\n",
        "print(seed_text)"
      ],
      "execution_count": 6,
      "outputs": [
        {
          "output_type": "stream",
          "text": [
            "Help me Obi Wan Kenobi, you're my only hope and mayst no sight prove taken loss still ill besides things seen set still still compare eyes to go delight spent shade knowing thy moan truth out doth appear taken grow new dead pluck well did grow mad to approve hence aside pain show every prove die thee be lend stay thy friend and show twain go and thee and not counted for my verse be done thee be stay ' now you seen sweets impanneled worse another taken taken taken taken grow night still rare shade so heaven doth go days told she living another youth out there doth\n"
          ],
          "name": "stdout"
        }
      ]
    }
  ]
}