{
  "nbformat": 4,
  "nbformat_minor": 0,
  "metadata": {
    "colab": {
      "name": "NLP Course - Week 3 Exercise Question.ipynb",
      "version": "0.3.2",
      "provenance": []
    },
    "kernelspec": {
      "name": "python3",
      "display_name": "Python 3"
    },
    "accelerator": "GPU"
  },
  "cells": [
    {
      "cell_type": "code",
      "metadata": {
        "id": "hmA6EzkQJ5jt",
        "colab_type": "code",
        "colab": {}
      },
      "source": [
        "import json\n",
        "import tensorflow as tf\n",
        "import csv\n",
        "import random\n",
        "import numpy as np\n",
        "\n",
        "from tensorflow.keras.preprocessing.text import Tokenizer\n",
        "from tensorflow.keras.preprocessing.sequence import pad_sequences\n",
        "from tensorflow.keras.utils import to_categorical\n",
        "from tensorflow.keras import regularizers\n",
        "\n",
        "\n",
        "embedding_dim = 100\n",
        "max_length = 16\n",
        "trunc_type='post'\n",
        "padding_type='post'\n",
        "oov_tok = \"<OOV>\"\n",
        "#Your dataset size here. Experiment using smaller values (i.e. 16000), but don't forget to train on at least 160000 to see the best effects\n",
        "training_size= 160000\n",
        "test_portion=.1\n",
        "\n",
        "corpus = []\n"
      ],
      "execution_count": 0,
      "outputs": []
    },
    {
      "cell_type": "code",
      "metadata": {
        "id": "bM0l_dORKqE0",
        "colab_type": "code",
        "outputId": "ca0fe69a-746c-4346-d262-3d4e175558c0",
        "colab": {
          "base_uri": "https://localhost:8080/",
          "height": 204
        }
      },
      "source": [
        "\n",
        "# Note that I cleaned the Stanford dataset to remove LATIN1 encoding to make it easier for Python CSV reader\n",
        "# You can do that yourself with:\n",
        "# iconv -f LATIN1 -t UTF8 training.1600000.processed.noemoticon.csv -o training_cleaned.csv\n",
        "# I then hosted it on my site to make it easier to use in this notebook\n",
        "\n",
        "!wget --no-check-certificate \\\n",
        "    https://storage.googleapis.com/laurencemoroney-blog.appspot.com/training_cleaned.csv \\\n",
        "    -O /tmp/training_cleaned.csv\n",
        "\n",
        "num_sentences = 0\n",
        "\n",
        "with open(\"/tmp/training_cleaned.csv\") as csvfile:\n",
        "    reader = csv.reader(csvfile, delimiter=',')\n",
        "    for row in reader:\n",
        "      # Your Code here. Create list items where the first item is the text, found in row[5], and the second is the label. Note that the label is a '0' or a '4' in the text. When it's the former, make\n",
        "      # your label to be 0, otherwise 1. Keep a count of the number of sentences in num_sentences\n",
        "        list_item=[]\n",
        "        # YOUR CODE HERE\n",
        "        list_item.append(row[5])\n",
        "        this_label=row[0]\n",
        "        if this_label=='0':\n",
        "            list_item.append(0)\n",
        "        else:\n",
        "            list_item.append(1)\n",
        "        num_sentences = num_sentences + 1\n",
        "        corpus.append(list_item)\n",
        "        "
      ],
      "execution_count": 2,
      "outputs": [
        {
          "output_type": "stream",
          "text": [
            "--2019-06-26 00:04:38--  https://storage.googleapis.com/laurencemoroney-blog.appspot.com/training_cleaned.csv\n",
            "Resolving storage.googleapis.com (storage.googleapis.com)... 216.58.197.176, 2404:6800:4004:80b::2010\n",
            "Connecting to storage.googleapis.com (storage.googleapis.com)|216.58.197.176|:443... connected.\n",
            "HTTP request sent, awaiting response... 200 OK\n",
            "Length: 238942690 (228M) [application/octet-stream]\n",
            "Saving to: ‘/tmp/training_cleaned.csv’\n",
            "\n",
            "/tmp/training_clean 100%[===================>] 227.87M   135MB/s    in 1.7s    \n",
            "\n",
            "2019-06-26 00:04:46 (135 MB/s) - ‘/tmp/training_cleaned.csv’ saved [238942690/238942690]\n",
            "\n"
          ],
          "name": "stdout"
        }
      ]
    },
    {
      "cell_type": "code",
      "metadata": {
        "id": "3kxblBUjEUX-",
        "colab_type": "code",
        "outputId": "e4767fb4-5117-4756-f67c-ff014331fa01",
        "colab": {
          "base_uri": "https://localhost:8080/",
          "height": 68
        }
      },
      "source": [
        "print(num_sentences)\n",
        "print(len(corpus))\n",
        "print(corpus[1])\n",
        "\n",
        "# Expected Output:\n",
        "# 1600000\n",
        "# 1600000\n",
        "# [\"is upset that he can't update his Facebook by texting it... and might cry as a result  School today also. Blah!\", 0]"
      ],
      "execution_count": 3,
      "outputs": [
        {
          "output_type": "stream",
          "text": [
            "1600000\n",
            "1600000\n",
            "[\"is upset that he can't update his Facebook by texting it... and might cry as a result  School today also. Blah!\", 0]\n"
          ],
          "name": "stdout"
        }
      ]
    },
    {
      "cell_type": "code",
      "metadata": {
        "id": "ohOGz24lsNAD",
        "colab_type": "code",
        "colab": {}
      },
      "source": [
        "sentences=[]\n",
        "labels=[]\n",
        "random.shuffle(corpus)\n",
        "for x in range(training_size):\n",
        "    sentences.append(corpus[x][0])\n",
        "    labels.append(corpus[x][1])\n",
        "\n",
        "\n",
        "tokenizer = Tokenizer()\n",
        "tokenizer.fit_on_texts(sentences)\n",
        "\n",
        "word_index = tokenizer.word_index\n",
        "vocab_size=len(word_index)\n",
        "\n",
        "sequences = tokenizer.texts_to_sequences(sentences)\n",
        "padded = pad_sequences(sequences, maxlen=max_length, padding=padding_type, truncating=trunc_type)\n",
        "\n",
        "split = int(test_portion * training_size)\n",
        "\n",
        "test_sequences = padded[0:split]\n",
        "training_sequences = padded[split:training_size]\n",
        "test_labels = labels[0:split]\n",
        "training_labels = labels[split:training_size]"
      ],
      "execution_count": 0,
      "outputs": []
    },
    {
      "cell_type": "code",
      "metadata": {
        "id": "gIrtRem1En3N",
        "colab_type": "code",
        "outputId": "c8838b65-23b0-4953-ecf9-6025262cb0f5",
        "colab": {
          "base_uri": "https://localhost:8080/",
          "height": 51
        }
      },
      "source": [
        "print(vocab_size)\n",
        "print(word_index['i'])\n",
        "# Expected Output\n",
        "# 138858\n",
        "# 1"
      ],
      "execution_count": 5,
      "outputs": [
        {
          "output_type": "stream",
          "text": [
            "138757\n",
            "1\n"
          ],
          "name": "stdout"
        }
      ]
    },
    {
      "cell_type": "code",
      "metadata": {
        "id": "C1zdgJkusRh0",
        "colab_type": "code",
        "outputId": "281466da-d546-49b9-d5a8-3d6197509fae",
        "colab": {
          "base_uri": "https://localhost:8080/",
          "height": 204
        }
      },
      "source": [
        "# Note this is the 100 dimension version of GloVe from Stanford\n",
        "# I unzipped and hosted it on my site to make this notebook easier\n",
        "!wget --no-check-certificate \\\n",
        "    https://storage.googleapis.com/laurencemoroney-blog.appspot.com/glove.6B.100d.txt \\\n",
        "    -O /tmp/glove.6B.100d.txt\n",
        "embeddings_index = {};\n",
        "with open('/tmp/glove.6B.100d.txt') as f:\n",
        "    for line in f:\n",
        "        values = line.split();\n",
        "        word = values[0];\n",
        "        coefs = np.asarray(values[1:], dtype='float32');\n",
        "        embeddings_index[word] = coefs;\n",
        "\n",
        "embeddings_matrix = np.zeros((vocab_size+1, embedding_dim));\n",
        "for word, i in word_index.items():\n",
        "    embedding_vector = embeddings_index.get(word);\n",
        "    if embedding_vector is not None:\n",
        "        embeddings_matrix[i] = embedding_vector;"
      ],
      "execution_count": 6,
      "outputs": [
        {
          "output_type": "stream",
          "text": [
            "--2019-06-26 00:06:12--  https://storage.googleapis.com/laurencemoroney-blog.appspot.com/glove.6B.100d.txt\n",
            "Resolving storage.googleapis.com (storage.googleapis.com)... 172.217.161.48, 2404:6800:4004:819::2010\n",
            "Connecting to storage.googleapis.com (storage.googleapis.com)|172.217.161.48|:443... connected.\n",
            "HTTP request sent, awaiting response... 200 OK\n",
            "Length: 347116733 (331M) [text/plain]\n",
            "Saving to: ‘/tmp/glove.6B.100d.txt’\n",
            "\n",
            "/tmp/glove.6B.100d. 100%[===================>] 331.04M   133MB/s    in 2.5s    \n",
            "\n",
            "2019-06-26 00:06:15 (133 MB/s) - ‘/tmp/glove.6B.100d.txt’ saved [347116733/347116733]\n",
            "\n"
          ],
          "name": "stdout"
        }
      ]
    },
    {
      "cell_type": "code",
      "metadata": {
        "id": "71NLk_lpFLNt",
        "colab_type": "code",
        "outputId": "c543a7b8-fc46-49ad-cdfa-9a4b6f0d4e6a",
        "colab": {
          "base_uri": "https://localhost:8080/",
          "height": 34
        }
      },
      "source": [
        "print(len(embeddings_matrix))\n",
        "# Expected Output\n",
        "# 138859"
      ],
      "execution_count": 7,
      "outputs": [
        {
          "output_type": "stream",
          "text": [
            "138758\n"
          ],
          "name": "stdout"
        }
      ]
    },
    {
      "cell_type": "code",
      "metadata": {
        "colab_type": "code",
        "id": "iKKvbuEBOGFz",
        "colab": {
          "base_uri": "https://localhost:8080/",
          "height": 1000
        },
        "outputId": "0bbbb3db-85d7-46c5-adf2-bc527f6b359c"
      },
      "source": [
        "model = tf.keras.Sequential([\n",
        "    tf.keras.layers.Embedding(vocab_size+1, embedding_dim, input_length=max_length, weights=[embeddings_matrix], trainable=False),\n",
        "    # YOUR CODE HERE - experiment with combining different types, such as convolutions and LSTMs\n",
        "    tf.keras.layers.Dropout(0.2),\n",
        "    tf.keras.layers.Conv1D(64, 5, activation='relu'),\n",
        "    tf.keras.layers.MaxPooling1D(pool_size=4),\n",
        "    tf.keras.layers.LSTM(64),\n",
        "    tf.keras.layers.Dense(1, activation='sigmoid')\n",
        "])\n",
        "model.compile(loss='binary_crossentropy', optimizer='adam', metrics=['accuracy'])\n",
        "model.summary()\n",
        "\n",
        "num_epochs = 50\n",
        "history = model.fit(training_sequences, training_labels, epochs=num_epochs, validation_data=(test_sequences, test_labels), verbose=2)\n",
        "\n",
        "print(\"Training Complete\")\n"
      ],
      "execution_count": 8,
      "outputs": [
        {
          "output_type": "stream",
          "text": [
            "WARNING: Logging before flag parsing goes to stderr.\n",
            "W0626 00:11:22.158648 140197123762048 deprecation.py:506] From /usr/local/lib/python3.6/dist-packages/tensorflow/python/keras/initializers.py:119: calling RandomUniform.__init__ (from tensorflow.python.ops.init_ops) with dtype is deprecated and will be removed in a future version.\n",
            "Instructions for updating:\n",
            "Call initializer instance with the dtype argument instead of passing it to the constructor\n",
            "W0626 00:11:22.165136 140197123762048 deprecation.py:506] From /usr/local/lib/python3.6/dist-packages/tensorflow/python/ops/init_ops.py:1251: calling VarianceScaling.__init__ (from tensorflow.python.ops.init_ops) with dtype is deprecated and will be removed in a future version.\n",
            "Instructions for updating:\n",
            "Call initializer instance with the dtype argument instead of passing it to the constructor\n",
            "W0626 00:11:25.731537 140197123762048 deprecation.py:323] From /usr/local/lib/python3.6/dist-packages/tensorflow/python/ops/nn_impl.py:180: add_dispatch_support.<locals>.wrapper (from tensorflow.python.ops.array_ops) is deprecated and will be removed in a future version.\n",
            "Instructions for updating:\n",
            "Use tf.where in 2.0, which has the same broadcast rule as np.where\n"
          ],
          "name": "stderr"
        },
        {
          "output_type": "stream",
          "text": [
            "Model: \"sequential\"\n",
            "_________________________________________________________________\n",
            "Layer (type)                 Output Shape              Param #   \n",
            "=================================================================\n",
            "embedding (Embedding)        (None, 16, 100)           13875800  \n",
            "_________________________________________________________________\n",
            "dropout (Dropout)            (None, 16, 100)           0         \n",
            "_________________________________________________________________\n",
            "conv1d (Conv1D)              (None, 12, 64)            32064     \n",
            "_________________________________________________________________\n",
            "max_pooling1d (MaxPooling1D) (None, 3, 64)             0         \n",
            "_________________________________________________________________\n",
            "lstm (LSTM)                  (None, 64)                33024     \n",
            "_________________________________________________________________\n",
            "dense (Dense)                (None, 1)                 65        \n",
            "=================================================================\n",
            "Total params: 13,940,953\n",
            "Trainable params: 65,153\n",
            "Non-trainable params: 13,875,800\n",
            "_________________________________________________________________\n",
            "Train on 144000 samples, validate on 16000 samples\n",
            "Epoch 1/50\n",
            "144000/144000 - 43s - loss: 0.5671 - acc: 0.7033 - val_loss: 0.5299 - val_acc: 0.7352\n",
            "Epoch 2/50\n",
            "144000/144000 - 39s - loss: 0.5270 - acc: 0.7323 - val_loss: 0.5114 - val_acc: 0.7416\n",
            "Epoch 3/50\n",
            "144000/144000 - 39s - loss: 0.5110 - acc: 0.7444 - val_loss: 0.5037 - val_acc: 0.7494\n",
            "Epoch 4/50\n",
            "144000/144000 - 38s - loss: 0.5000 - acc: 0.7514 - val_loss: 0.5038 - val_acc: 0.7492\n",
            "Epoch 5/50\n",
            "144000/144000 - 38s - loss: 0.4913 - acc: 0.7567 - val_loss: 0.4977 - val_acc: 0.7542\n",
            "Epoch 6/50\n",
            "144000/144000 - 38s - loss: 0.4835 - acc: 0.7629 - val_loss: 0.5033 - val_acc: 0.7531\n",
            "Epoch 7/50\n",
            "144000/144000 - 38s - loss: 0.4792 - acc: 0.7648 - val_loss: 0.4939 - val_acc: 0.7561\n",
            "Epoch 8/50\n",
            "144000/144000 - 38s - loss: 0.4731 - acc: 0.7695 - val_loss: 0.4973 - val_acc: 0.7552\n",
            "Epoch 9/50\n",
            "144000/144000 - 38s - loss: 0.4690 - acc: 0.7711 - val_loss: 0.4944 - val_acc: 0.7545\n",
            "Epoch 10/50\n",
            "144000/144000 - 38s - loss: 0.4646 - acc: 0.7742 - val_loss: 0.4925 - val_acc: 0.7581\n",
            "Epoch 11/50\n",
            "144000/144000 - 38s - loss: 0.4626 - acc: 0.7750 - val_loss: 0.4970 - val_acc: 0.7595\n",
            "Epoch 12/50\n",
            "144000/144000 - 38s - loss: 0.4593 - acc: 0.7777 - val_loss: 0.4957 - val_acc: 0.7590\n",
            "Epoch 13/50\n",
            "144000/144000 - 38s - loss: 0.4572 - acc: 0.7790 - val_loss: 0.4939 - val_acc: 0.7568\n",
            "Epoch 14/50\n",
            "144000/144000 - 37s - loss: 0.4547 - acc: 0.7805 - val_loss: 0.4962 - val_acc: 0.7583\n",
            "Epoch 15/50\n",
            "144000/144000 - 38s - loss: 0.4520 - acc: 0.7827 - val_loss: 0.5003 - val_acc: 0.7576\n",
            "Epoch 16/50\n",
            "144000/144000 - 37s - loss: 0.4504 - acc: 0.7837 - val_loss: 0.4993 - val_acc: 0.7568\n",
            "Epoch 17/50\n",
            "144000/144000 - 38s - loss: 0.4493 - acc: 0.7831 - val_loss: 0.5028 - val_acc: 0.7554\n",
            "Epoch 18/50\n",
            "144000/144000 - 37s - loss: 0.4467 - acc: 0.7857 - val_loss: 0.5067 - val_acc: 0.7579\n",
            "Epoch 19/50\n",
            "144000/144000 - 37s - loss: 0.4461 - acc: 0.7850 - val_loss: 0.5034 - val_acc: 0.7562\n",
            "Epoch 20/50\n",
            "144000/144000 - 37s - loss: 0.4430 - acc: 0.7871 - val_loss: 0.5049 - val_acc: 0.7511\n",
            "Epoch 21/50\n",
            "144000/144000 - 37s - loss: 0.4442 - acc: 0.7868 - val_loss: 0.5103 - val_acc: 0.7501\n",
            "Epoch 22/50\n",
            "144000/144000 - 37s - loss: 0.4422 - acc: 0.7878 - val_loss: 0.5067 - val_acc: 0.7544\n",
            "Epoch 23/50\n",
            "144000/144000 - 37s - loss: 0.4410 - acc: 0.7880 - val_loss: 0.5066 - val_acc: 0.7566\n",
            "Epoch 24/50\n",
            "144000/144000 - 38s - loss: 0.4399 - acc: 0.7894 - val_loss: 0.5050 - val_acc: 0.7536\n",
            "Epoch 25/50\n",
            "144000/144000 - 38s - loss: 0.4394 - acc: 0.7905 - val_loss: 0.5093 - val_acc: 0.7534\n",
            "Epoch 26/50\n",
            "144000/144000 - 37s - loss: 0.4392 - acc: 0.7904 - val_loss: 0.5090 - val_acc: 0.7564\n",
            "Epoch 27/50\n",
            "144000/144000 - 37s - loss: 0.4378 - acc: 0.7909 - val_loss: 0.5051 - val_acc: 0.7530\n",
            "Epoch 28/50\n",
            "144000/144000 - 37s - loss: 0.4380 - acc: 0.7913 - val_loss: 0.5091 - val_acc: 0.7541\n",
            "Epoch 29/50\n",
            "144000/144000 - 37s - loss: 0.4371 - acc: 0.7917 - val_loss: 0.5050 - val_acc: 0.7590\n",
            "Epoch 30/50\n",
            "144000/144000 - 37s - loss: 0.4362 - acc: 0.7918 - val_loss: 0.5051 - val_acc: 0.7572\n",
            "Epoch 31/50\n",
            "144000/144000 - 37s - loss: 0.4364 - acc: 0.7917 - val_loss: 0.5068 - val_acc: 0.7548\n",
            "Epoch 32/50\n",
            "144000/144000 - 37s - loss: 0.4352 - acc: 0.7927 - val_loss: 0.5083 - val_acc: 0.7530\n",
            "Epoch 33/50\n",
            "144000/144000 - 38s - loss: 0.4335 - acc: 0.7946 - val_loss: 0.5105 - val_acc: 0.7509\n",
            "Epoch 34/50\n",
            "144000/144000 - 37s - loss: 0.4343 - acc: 0.7935 - val_loss: 0.5108 - val_acc: 0.7539\n",
            "Epoch 35/50\n",
            "144000/144000 - 37s - loss: 0.4336 - acc: 0.7943 - val_loss: 0.5120 - val_acc: 0.7551\n",
            "Epoch 36/50\n",
            "144000/144000 - 37s - loss: 0.4320 - acc: 0.7949 - val_loss: 0.5117 - val_acc: 0.7557\n",
            "Epoch 37/50\n",
            "144000/144000 - 38s - loss: 0.4321 - acc: 0.7926 - val_loss: 0.5120 - val_acc: 0.7511\n",
            "Epoch 38/50\n",
            "144000/144000 - 37s - loss: 0.4322 - acc: 0.7949 - val_loss: 0.5124 - val_acc: 0.7513\n",
            "Epoch 39/50\n",
            "144000/144000 - 37s - loss: 0.4329 - acc: 0.7943 - val_loss: 0.5141 - val_acc: 0.7545\n",
            "Epoch 40/50\n",
            "144000/144000 - 37s - loss: 0.4325 - acc: 0.7947 - val_loss: 0.5116 - val_acc: 0.7556\n",
            "Epoch 41/50\n",
            "144000/144000 - 37s - loss: 0.4311 - acc: 0.7950 - val_loss: 0.5114 - val_acc: 0.7523\n",
            "Epoch 42/50\n",
            "144000/144000 - 37s - loss: 0.4325 - acc: 0.7943 - val_loss: 0.5161 - val_acc: 0.7521\n",
            "Epoch 43/50\n",
            "144000/144000 - 37s - loss: 0.4313 - acc: 0.7953 - val_loss: 0.5137 - val_acc: 0.7476\n",
            "Epoch 44/50\n",
            "144000/144000 - 37s - loss: 0.4303 - acc: 0.7960 - val_loss: 0.5108 - val_acc: 0.7503\n",
            "Epoch 45/50\n",
            "144000/144000 - 37s - loss: 0.4316 - acc: 0.7950 - val_loss: 0.5184 - val_acc: 0.7471\n",
            "Epoch 46/50\n",
            "144000/144000 - 36s - loss: 0.4300 - acc: 0.7961 - val_loss: 0.5134 - val_acc: 0.7496\n",
            "Epoch 47/50\n",
            "144000/144000 - 36s - loss: 0.4284 - acc: 0.7972 - val_loss: 0.5179 - val_acc: 0.7517\n",
            "Epoch 48/50\n",
            "144000/144000 - 36s - loss: 0.4298 - acc: 0.7958 - val_loss: 0.5122 - val_acc: 0.7519\n",
            "Epoch 49/50\n",
            "144000/144000 - 36s - loss: 0.4297 - acc: 0.7963 - val_loss: 0.5147 - val_acc: 0.7508\n",
            "Epoch 50/50\n",
            "144000/144000 - 37s - loss: 0.4281 - acc: 0.7964 - val_loss: 0.5121 - val_acc: 0.7517\n",
            "Training Complete\n"
          ],
          "name": "stdout"
        }
      ]
    },
    {
      "cell_type": "code",
      "metadata": {
        "id": "qxju4ItJKO8F",
        "colab_type": "code",
        "colab": {
          "base_uri": "https://localhost:8080/",
          "height": 607
        },
        "outputId": "33e98b9a-6bac-454f-be0b-fcc874aafe51"
      },
      "source": [
        "import matplotlib.image  as mpimg\n",
        "import matplotlib.pyplot as plt\n",
        "\n",
        "#-----------------------------------------------------------\n",
        "# Retrieve a list of list results on training and test data\n",
        "# sets for each training epoch\n",
        "#-----------------------------------------------------------\n",
        "acc=history.history['acc']\n",
        "val_acc=history.history['val_acc']\n",
        "loss=history.history['loss']\n",
        "val_loss=history.history['val_loss']\n",
        "\n",
        "epochs=range(len(acc)) # Get number of epochs\n",
        "\n",
        "#------------------------------------------------\n",
        "# Plot training and validation accuracy per epoch\n",
        "#------------------------------------------------\n",
        "plt.plot(epochs, acc, 'r')\n",
        "plt.plot(epochs, val_acc, 'b')\n",
        "plt.title('Training and validation accuracy')\n",
        "plt.xlabel(\"Epochs\")\n",
        "plt.ylabel(\"Accuracy\")\n",
        "plt.legend([\"Accuracy\", \"Validation Accuracy\"])\n",
        "\n",
        "plt.figure()\n",
        "\n",
        "#------------------------------------------------\n",
        "# Plot training and validation loss per epoch\n",
        "#------------------------------------------------\n",
        "plt.plot(epochs, loss, 'r')\n",
        "plt.plot(epochs, val_loss, 'b')\n",
        "plt.title('Training and validation loss')\n",
        "plt.xlabel(\"Epochs\")\n",
        "plt.ylabel(\"Loss\")\n",
        "plt.legend([\"Loss\", \"Validation Loss\"])\n",
        "\n",
        "plt.figure()\n",
        "\n",
        "\n",
        "# Expected Output\n",
        "# A chart where the validation loss does not increase sharply!"
      ],
      "execution_count": 9,
      "outputs": [
        {
          "output_type": "execute_result",
          "data": {
            "text/plain": [
              "<Figure size 432x288 with 0 Axes>"
            ]
          },
          "metadata": {
            "tags": []
          },
          "execution_count": 9
        },
        {
          "output_type": "display_data",
          "data": {
            "image/png": "[encoded data removed]",
            "text/plain": [
              "<Figure size 432x288 with 1 Axes>"
            ]
          },
          "metadata": {
            "tags": []
          }
        },
        {
          "output_type": "display_data",
          "data": {
            "image/png": "[encoded data removed]",
            "text/plain": [
              "<Figure size 432x288 with 1 Axes>"
            ]
          },
          "metadata": {
            "tags": []
          }
        },
        {
          "output_type": "display_data",
          "data": {
            "text/plain": [
              "<Figure size 432x288 with 0 Axes>"
            ]
          },
          "metadata": {
            "tags": []
          }
        }
      ]
    },
    {
      "cell_type": "code",
      "metadata": {
        "id": "7H9ecub8Q-a8",
        "colab_type": "code",
        "colab": {}
      },
      "source": [
        ""
      ],
      "execution_count": 0,
      "outputs": []
    }
  ]
}